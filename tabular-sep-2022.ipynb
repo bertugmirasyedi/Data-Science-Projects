{
 "cells": [
  {
   "cell_type": "code",
   "execution_count": 58,
   "metadata": {},
   "outputs": [
    {
     "name": "stderr",
     "output_type": "stream",
     "text": [
      "/opt/anaconda3/lib/python3.8/site-packages/featuretools/synthesis/deep_feature_synthesis.py:169: UserWarning: Only one dataframe in entityset, changing max_depth to 1 since deeper features cannot be created\n",
      "  warnings.warn(\n"
     ]
    }
   ],
   "source": [
    "import pandas\n",
    "import matplotlib.pyplot as plt\n",
    "import statsmodels\n",
    "import tsfresh as ts\n",
    "import featuretools as ft\n",
    "import woodwork.logical_types as logical_types\n",
    "from sklearn.preprocessing import LabelEncoder\n",
    "\n",
    "data = pandas.read_csv(\"train.csv\")\n",
    "data_features = data.drop(columns=\"num_sold\")\n",
    "data_targets = data.num_sold\n",
    "\n",
    "entity_set = ft.EntitySet()\n",
    "entity_set.add_dataframe(\n",
    "    dataframe_name=\"Book Sales\",\n",
    "    dataframe=data_features,\n",
    "    index=\"row_id\",\n",
    "    time_index=\"date\",\n",
    "    logical_types={\n",
    "        \"country\": logical_types.Categorical,\n",
    "        \"store\": logical_types.Categorical,\n",
    "        \"product\": logical_types.Categorical\n",
    "    }\n",
    ")\n",
    "feature_matrix, features = ft.dfs(entityset=entity_set, target_dataframe_name=\"Book Sales\", max_depth=1)\n"
   ]
  },
  {
   "cell_type": "code",
   "execution_count": 59,
   "metadata": {},
   "outputs": [],
   "source": [
    "label_encoder = LabelEncoder()\n",
    "feature_matrix.country = label_encoder.fit_transform(feature_matrix.country) + 1\n",
    "feature_matrix.store = label_encoder.fit_transform(feature_matrix.store) + 1\n",
    "feature_matrix[\"product\"] = label_encoder.fit_transform(feature_matrix[\"product\"]) + 1"
   ]
  },
  {
   "cell_type": "code",
   "execution_count": 60,
   "metadata": {},
   "outputs": [],
   "source": [
    "training_data_features = feature_matrix[feature_matrix[\"YEAR(date)\"] < 2020]\n",
    "training_data_targets = data_targets[range(len(training_data_features))]\n",
    "\n",
    "test_data_features = feature_matrix[feature_matrix[\"YEAR(date)\"] >= 2020]\n",
    "start_index = test_data_features.index[0]\n",
    "end_index = test_data_features.index[-1] + 1\n",
    "test_data_targets = data_targets[range(start_index, end_index)]"
   ]
  }
 ],
 "metadata": {
  "kernelspec": {
   "display_name": "Python 3.8.8",
   "language": "python",
   "name": "python3"
  },
  "language_info": {
   "codemirror_mode": {
    "name": "ipython",
    "version": 3
   },
   "file_extension": ".py",
   "mimetype": "text/x-python",
   "name": "python",
   "nbconvert_exporter": "python",
   "pygments_lexer": "ipython3",
   "version": "3.8.8"
  },
  "orig_nbformat": 4,
  "vscode": {
   "interpreter": {
    "hash": "40d3a090f54c6569ab1632332b64b2c03c39dcf918b08424e98f38b5ae0af88f"
   }
  }
 },
 "nbformat": 4,
 "nbformat_minor": 2
}
